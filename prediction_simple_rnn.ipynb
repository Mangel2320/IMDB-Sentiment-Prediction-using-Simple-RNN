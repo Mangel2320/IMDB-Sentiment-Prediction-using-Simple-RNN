{
  "nbformat": 4,
  "nbformat_minor": 0,
  "metadata": {
    "colab": {
      "provenance": []
    },
    "kernelspec": {
      "name": "python3",
      "display_name": "Python 3"
    },
    "language_info": {
      "name": "python"
    }
  },
  "cells": [
    {
      "cell_type": "code",
      "execution_count": 22,
      "metadata": {
        "id": "ZAr5vnVJRr7y"
      },
      "outputs": [],
      "source": [
        "import numpy as np\n",
        "import pandas as pd\n",
        "import tensorflow as tf\n",
        "from tensorflow.keras.datasets import imdb\n",
        "from tensorflow.keras.preprocessing import sequence\n",
        "from tensorflow.keras.models import Sequential, load_model\n",
        "from tensorflow.keras.layers import SimpleRNN, Dense, Embedding"
      ]
    },
    {
      "cell_type": "code",
      "source": [
        "word_index = imdb.get_word_index()\n",
        "reverse_word_index = {value: key for key, value in word_index.items()}"
      ],
      "metadata": {
        "id": "sEyI2UxYR-Sx"
      },
      "execution_count": 23,
      "outputs": []
    },
    {
      "cell_type": "code",
      "source": [
        "model=load_model('/content/drive/MyDrive/NLP_Krishnaik/simple_rnn_imdb.keras')\n",
        "model.summary()"
      ],
      "metadata": {
        "colab": {
          "base_uri": "https://localhost:8080/",
          "height": 303
        },
        "id": "Qk02gXVLSTZc",
        "outputId": "836bcc23-3f77-4307-80dd-0b2fc7bceb0b"
      },
      "execution_count": 24,
      "outputs": [
        {
          "output_type": "stream",
          "name": "stderr",
          "text": [
            "/usr/local/lib/python3.10/dist-packages/keras/src/saving/saving_lib.py:576: UserWarning: Skipping variable loading for optimizer 'rmsprop', because it has 8 variables whereas the saved optimizer has 14 variables. \n",
            "  saveable.load_own_variables(weights_store.get(inner_path))\n"
          ]
        },
        {
          "output_type": "display_data",
          "data": {
            "text/plain": [
              "\u001b[1mModel: \"sequential_21\"\u001b[0m\n"
            ],
            "text/html": [
              "<pre style=\"white-space:pre;overflow-x:auto;line-height:normal;font-family:Menlo,'DejaVu Sans Mono',consolas,'Courier New',monospace\"><span style=\"font-weight: bold\">Model: \"sequential_21\"</span>\n",
              "</pre>\n"
            ]
          },
          "metadata": {}
        },
        {
          "output_type": "display_data",
          "data": {
            "text/plain": [
              "┏━━━━━━━━━━━━━━━━━━━━━━━━━━━━━━━━━━━━━━┳━━━━━━━━━━━━━━━━━━━━━━━━━━━━━┳━━━━━━━━━━━━━━━━━┓\n",
              "┃\u001b[1m \u001b[0m\u001b[1mLayer (type)                        \u001b[0m\u001b[1m \u001b[0m┃\u001b[1m \u001b[0m\u001b[1mOutput Shape               \u001b[0m\u001b[1m \u001b[0m┃\u001b[1m \u001b[0m\u001b[1m        Param #\u001b[0m\u001b[1m \u001b[0m┃\n",
              "┡━━━━━━━━━━━━━━━━━━━━━━━━━━━━━━━━━━━━━━╇━━━━━━━━━━━━━━━━━━━━━━━━━━━━━╇━━━━━━━━━━━━━━━━━┩\n",
              "│ embedding_18 (\u001b[38;5;33mEmbedding\u001b[0m)             │ (\u001b[38;5;45mNone\u001b[0m, \u001b[38;5;34m500\u001b[0m, \u001b[38;5;34m128\u001b[0m)            │       \u001b[38;5;34m1,280,000\u001b[0m │\n",
              "├──────────────────────────────────────┼─────────────────────────────┼─────────────────┤\n",
              "│ simple_rnn_11 (\u001b[38;5;33mSimpleRNN\u001b[0m)            │ (\u001b[38;5;45mNone\u001b[0m, \u001b[38;5;34m128\u001b[0m)                 │          \u001b[38;5;34m32,896\u001b[0m │\n",
              "├──────────────────────────────────────┼─────────────────────────────┼─────────────────┤\n",
              "│ dense_11 (\u001b[38;5;33mDense\u001b[0m)                     │ (\u001b[38;5;45mNone\u001b[0m, \u001b[38;5;34m1\u001b[0m)                   │             \u001b[38;5;34m129\u001b[0m │\n",
              "└──────────────────────────────────────┴─────────────────────────────┴─────────────────┘\n"
            ],
            "text/html": [
              "<pre style=\"white-space:pre;overflow-x:auto;line-height:normal;font-family:Menlo,'DejaVu Sans Mono',consolas,'Courier New',monospace\">┏━━━━━━━━━━━━━━━━━━━━━━━━━━━━━━━━━━━━━━┳━━━━━━━━━━━━━━━━━━━━━━━━━━━━━┳━━━━━━━━━━━━━━━━━┓\n",
              "┃<span style=\"font-weight: bold\"> Layer (type)                         </span>┃<span style=\"font-weight: bold\"> Output Shape                </span>┃<span style=\"font-weight: bold\">         Param # </span>┃\n",
              "┡━━━━━━━━━━━━━━━━━━━━━━━━━━━━━━━━━━━━━━╇━━━━━━━━━━━━━━━━━━━━━━━━━━━━━╇━━━━━━━━━━━━━━━━━┩\n",
              "│ embedding_18 (<span style=\"color: #0087ff; text-decoration-color: #0087ff\">Embedding</span>)             │ (<span style=\"color: #00d7ff; text-decoration-color: #00d7ff\">None</span>, <span style=\"color: #00af00; text-decoration-color: #00af00\">500</span>, <span style=\"color: #00af00; text-decoration-color: #00af00\">128</span>)            │       <span style=\"color: #00af00; text-decoration-color: #00af00\">1,280,000</span> │\n",
              "├──────────────────────────────────────┼─────────────────────────────┼─────────────────┤\n",
              "│ simple_rnn_11 (<span style=\"color: #0087ff; text-decoration-color: #0087ff\">SimpleRNN</span>)            │ (<span style=\"color: #00d7ff; text-decoration-color: #00d7ff\">None</span>, <span style=\"color: #00af00; text-decoration-color: #00af00\">128</span>)                 │          <span style=\"color: #00af00; text-decoration-color: #00af00\">32,896</span> │\n",
              "├──────────────────────────────────────┼─────────────────────────────┼─────────────────┤\n",
              "│ dense_11 (<span style=\"color: #0087ff; text-decoration-color: #0087ff\">Dense</span>)                     │ (<span style=\"color: #00d7ff; text-decoration-color: #00d7ff\">None</span>, <span style=\"color: #00af00; text-decoration-color: #00af00\">1</span>)                   │             <span style=\"color: #00af00; text-decoration-color: #00af00\">129</span> │\n",
              "└──────────────────────────────────────┴─────────────────────────────┴─────────────────┘\n",
              "</pre>\n"
            ]
          },
          "metadata": {}
        },
        {
          "output_type": "display_data",
          "data": {
            "text/plain": [
              "\u001b[1m Total params: \u001b[0m\u001b[38;5;34m2,626,052\u001b[0m (10.02 MB)\n"
            ],
            "text/html": [
              "<pre style=\"white-space:pre;overflow-x:auto;line-height:normal;font-family:Menlo,'DejaVu Sans Mono',consolas,'Courier New',monospace\"><span style=\"font-weight: bold\"> Total params: </span><span style=\"color: #00af00; text-decoration-color: #00af00\">2,626,052</span> (10.02 MB)\n",
              "</pre>\n"
            ]
          },
          "metadata": {}
        },
        {
          "output_type": "display_data",
          "data": {
            "text/plain": [
              "\u001b[1m Trainable params: \u001b[0m\u001b[38;5;34m1,313,025\u001b[0m (5.01 MB)\n"
            ],
            "text/html": [
              "<pre style=\"white-space:pre;overflow-x:auto;line-height:normal;font-family:Menlo,'DejaVu Sans Mono',consolas,'Courier New',monospace\"><span style=\"font-weight: bold\"> Trainable params: </span><span style=\"color: #00af00; text-decoration-color: #00af00\">1,313,025</span> (5.01 MB)\n",
              "</pre>\n"
            ]
          },
          "metadata": {}
        },
        {
          "output_type": "display_data",
          "data": {
            "text/plain": [
              "\u001b[1m Non-trainable params: \u001b[0m\u001b[38;5;34m0\u001b[0m (0.00 B)\n"
            ],
            "text/html": [
              "<pre style=\"white-space:pre;overflow-x:auto;line-height:normal;font-family:Menlo,'DejaVu Sans Mono',consolas,'Courier New',monospace\"><span style=\"font-weight: bold\"> Non-trainable params: </span><span style=\"color: #00af00; text-decoration-color: #00af00\">0</span> (0.00 B)\n",
              "</pre>\n"
            ]
          },
          "metadata": {}
        },
        {
          "output_type": "display_data",
          "data": {
            "text/plain": [
              "\u001b[1m Optimizer params: \u001b[0m\u001b[38;5;34m1,313,027\u001b[0m (5.01 MB)\n"
            ],
            "text/html": [
              "<pre style=\"white-space:pre;overflow-x:auto;line-height:normal;font-family:Menlo,'DejaVu Sans Mono',consolas,'Courier New',monospace\"><span style=\"font-weight: bold\"> Optimizer params: </span><span style=\"color: #00af00; text-decoration-color: #00af00\">1,313,027</span> (5.01 MB)\n",
              "</pre>\n"
            ]
          },
          "metadata": {}
        }
      ]
    },
    {
      "cell_type": "code",
      "source": [
        "model.get_weights()"
      ],
      "metadata": {
        "colab": {
          "base_uri": "https://localhost:8080/"
        },
        "collapsed": true,
        "id": "_3txysA8TFDb",
        "outputId": "752204b7-13a9-40ae-b052-36dccafff4fe"
      },
      "execution_count": 18,
      "outputs": [
        {
          "output_type": "execute_result",
          "data": {
            "text/plain": [
              "[array([[-0.49985164, -0.995127  ,  0.46035102, ...,  0.60616654,\n",
              "         -0.27159467, -1.862753  ],\n",
              "        [-0.02583017, -0.1200548 ,  0.06315906, ...,  0.06081809,\n",
              "         -0.02651082, -0.19718295],\n",
              "        [-0.02987797, -0.05570048,  0.12437762, ..., -0.05127028,\n",
              "          0.05573167, -0.07029876],\n",
              "        ...,\n",
              "        [-0.03147547, -0.03394426, -0.03055373, ...,  0.03698875,\n",
              "          0.04553279,  0.0294655 ],\n",
              "        [-0.00556073, -0.03172722,  0.03958156, ...,  0.0432936 ,\n",
              "         -0.07134743, -0.02348495],\n",
              "        [-0.03996845, -0.05736581, -0.03827795, ...,  0.06809492,\n",
              "         -0.10106046, -0.02391987]], dtype=float32),\n",
              " array([[-0.06593185,  0.09839178,  0.13772458, ..., -0.08450374,\n",
              "         -0.02489904, -0.01930671],\n",
              "        [ 0.11009564, -0.05507917,  0.1461587 , ..., -0.03305527,\n",
              "         -0.10275569, -0.07967572],\n",
              "        [-0.0022612 , -0.13370131,  0.03582697, ..., -0.13506256,\n",
              "          0.1060292 ,  0.02135161],\n",
              "        ...,\n",
              "        [-0.14284803,  0.15334632, -0.0271401 , ..., -0.02546986,\n",
              "          0.08126325,  0.03156867],\n",
              "        [-0.10888828, -0.01328399, -0.10915609, ..., -0.10432685,\n",
              "         -0.02541655, -0.01547145],\n",
              "        [ 0.07710403,  0.05291181, -0.10098666, ...,  0.13919905,\n",
              "          0.03934832, -0.01714467]], dtype=float32),\n",
              " array([[-0.01747034, -0.02156771,  0.05198573, ..., -0.20736335,\n",
              "         -0.1607391 , -0.06958045],\n",
              "        [-0.26498666, -0.07419214,  0.03648935, ..., -0.04808453,\n",
              "          0.04347899, -0.06151275],\n",
              "        [ 0.08781262, -0.0074859 , -0.17866337, ...,  0.01485358,\n",
              "          0.22532293, -0.08010432],\n",
              "        ...,\n",
              "        [ 0.03508211, -0.08440085, -0.06193248, ...,  0.07769006,\n",
              "         -0.12232266, -0.13901997],\n",
              "        [-0.1049058 , -0.07388691,  0.07703057, ...,  0.05628053,\n",
              "         -0.02078585,  0.07434232],\n",
              "        [ 0.04379524,  0.14090788,  0.04418339, ...,  0.13487479,\n",
              "         -0.01954092, -0.0019376 ]], dtype=float32),\n",
              " array([ 0.00597926, -0.03262332, -0.00824203,  0.01594318, -0.03463586,\n",
              "         0.02992584, -0.02650557,  0.03860253,  0.0066007 ,  0.02741147,\n",
              "        -0.01964819, -0.02166655, -0.03288532, -0.01522952, -0.01337482,\n",
              "        -0.03205247,  0.02949563, -0.0715526 , -0.01057732, -0.02159264,\n",
              "         0.03382967,  0.00565551,  0.03550153,  0.05238247,  0.02584962,\n",
              "        -0.00260573, -0.03128051, -0.02089664,  0.00983846,  0.02709123,\n",
              "        -0.02673858, -0.00575438,  0.02505837,  0.01751788, -0.02757605,\n",
              "         0.02712814,  0.02502296, -0.00092629, -0.02243375,  0.02149896,\n",
              "        -0.05247674, -0.00500567, -0.04150391,  0.03423315, -0.01990339,\n",
              "         0.01032599, -0.01289046, -0.0259353 , -0.0051994 , -0.01267502,\n",
              "        -0.00132351, -0.03252971, -0.04466256, -0.00331497, -0.02201248,\n",
              "         0.0014965 , -0.0456042 ,  0.02443736,  0.02206893, -0.00603088,\n",
              "        -0.0262185 , -0.01714589,  0.02188985,  0.030845  ,  0.01488914,\n",
              "         0.02238357, -0.01982971, -0.02264865,  0.00421656, -0.03166724,\n",
              "        -0.01029016, -0.00040948, -0.02121316, -0.03294698,  0.0474048 ,\n",
              "         0.03573583, -0.03502222,  0.02725857,  0.02176765,  0.0062595 ,\n",
              "        -0.00684463,  0.02149989, -0.02003943, -0.01130811,  0.00649236,\n",
              "         0.02262001, -0.00695199,  0.00046561,  0.01832834,  0.0069917 ,\n",
              "        -0.01580523,  0.01272348, -0.02631393, -0.00547886, -0.01943702,\n",
              "         0.00052212, -0.00868283,  0.01302348, -0.00770068, -0.00427501,\n",
              "        -0.0249371 , -0.00109182, -0.03129943,  0.02516007,  0.02146226,\n",
              "        -0.00228269, -0.09881239,  0.0009821 ,  0.00143691,  0.02367839,\n",
              "        -0.0237723 ,  0.0181358 , -0.04318454, -0.02398014, -0.03412898,\n",
              "        -0.02678892,  0.02532106,  0.00037547, -0.02501753,  0.01295148,\n",
              "         0.01774823, -0.02642753, -0.01182258, -0.00252838,  0.03744089,\n",
              "        -0.00603875, -0.02051863, -0.01554169], dtype=float32),\n",
              " array([[-0.16945441],\n",
              "        [ 0.10975846],\n",
              "        [ 0.38607594],\n",
              "        [-0.24153213],\n",
              "        [-0.04659715],\n",
              "        [ 0.11533855],\n",
              "        [ 0.30984017],\n",
              "        [ 0.32631415],\n",
              "        [ 0.0590069 ],\n",
              "        [ 0.04394774],\n",
              "        [-0.03015831],\n",
              "        [-0.13706675],\n",
              "        [ 0.01818749],\n",
              "        [ 0.15575789],\n",
              "        [ 0.13713624],\n",
              "        [-0.20004708],\n",
              "        [-0.06607887],\n",
              "        [-0.31677955],\n",
              "        [ 0.28942987],\n",
              "        [-0.03368801],\n",
              "        [ 0.0547894 ],\n",
              "        [-0.17877972],\n",
              "        [-0.07024339],\n",
              "        [-0.23364891],\n",
              "        [-0.16309537],\n",
              "        [ 0.16330136],\n",
              "        [-0.02583992],\n",
              "        [ 0.07343391],\n",
              "        [ 0.22780386],\n",
              "        [-0.18433224],\n",
              "        [ 0.03539176],\n",
              "        [ 0.18326643],\n",
              "        [ 0.02359242],\n",
              "        [ 0.22684139],\n",
              "        [ 0.05876312],\n",
              "        [ 0.04753368],\n",
              "        [ 0.19468859],\n",
              "        [ 0.23654813],\n",
              "        [-0.0228927 ],\n",
              "        [-0.10514359],\n",
              "        [-0.15197626],\n",
              "        [ 0.00815439],\n",
              "        [ 0.0518066 ],\n",
              "        [-0.0842088 ],\n",
              "        [ 0.04314854],\n",
              "        [ 0.24159826],\n",
              "        [ 0.1439846 ],\n",
              "        [ 0.03694446],\n",
              "        [ 0.15651153],\n",
              "        [ 0.24121861],\n",
              "        [ 0.1374238 ],\n",
              "        [ 0.23190272],\n",
              "        [ 0.06626289],\n",
              "        [-0.19853395],\n",
              "        [-0.2248333 ],\n",
              "        [ 0.12920952],\n",
              "        [ 0.21744448],\n",
              "        [-0.15026766],\n",
              "        [-0.17192481],\n",
              "        [ 0.07014672],\n",
              "        [ 0.03240361],\n",
              "        [ 0.19774237],\n",
              "        [ 0.06780675],\n",
              "        [ 0.23068993],\n",
              "        [-0.22949535],\n",
              "        [-0.12718153],\n",
              "        [ 0.01671505],\n",
              "        [ 0.17177919],\n",
              "        [-0.07721314],\n",
              "        [ 0.05623853],\n",
              "        [-0.14015871],\n",
              "        [ 0.18789008],\n",
              "        [ 0.16381057],\n",
              "        [ 0.1759096 ],\n",
              "        [-0.19875836],\n",
              "        [-0.06815378],\n",
              "        [-0.0820639 ],\n",
              "        [ 0.06379272],\n",
              "        [-0.14829937],\n",
              "        [-0.15024485],\n",
              "        [ 0.01325987],\n",
              "        [ 0.19411822],\n",
              "        [-0.29322132],\n",
              "        [ 0.18923599],\n",
              "        [-0.20168315],\n",
              "        [ 0.15286092],\n",
              "        [ 0.15370907],\n",
              "        [-0.07702132],\n",
              "        [ 0.13760395],\n",
              "        [-0.16358887],\n",
              "        [ 0.03424276],\n",
              "        [-0.34550813],\n",
              "        [ 0.11561137],\n",
              "        [ 0.06911482],\n",
              "        [-0.24828759],\n",
              "        [-0.12313074],\n",
              "        [-0.10269281],\n",
              "        [ 0.15729015],\n",
              "        [ 0.23822078],\n",
              "        [ 0.5124719 ],\n",
              "        [ 0.2943162 ],\n",
              "        [ 0.24332537],\n",
              "        [ 0.2992463 ],\n",
              "        [ 0.00652773],\n",
              "        [ 0.07379522],\n",
              "        [-0.01327891],\n",
              "        [-0.18786871],\n",
              "        [ 0.2269669 ],\n",
              "        [ 0.14261632],\n",
              "        [-0.03893302],\n",
              "        [ 0.05535413],\n",
              "        [-0.213477  ],\n",
              "        [ 0.0172417 ],\n",
              "        [-0.00205642],\n",
              "        [-0.059408  ],\n",
              "        [ 0.20948349],\n",
              "        [-0.31394836],\n",
              "        [-0.07631681],\n",
              "        [ 0.202464  ],\n",
              "        [-0.10879403],\n",
              "        [-0.06516359],\n",
              "        [ 0.09828813],\n",
              "        [ 0.12186685],\n",
              "        [ 0.13819584],\n",
              "        [ 0.10455864],\n",
              "        [ 0.22136864],\n",
              "        [-0.09733236],\n",
              "        [-0.04860953]], dtype=float32),\n",
              " array([0.32974777], dtype=float32)]"
            ]
          },
          "metadata": {},
          "execution_count": 18
        }
      ]
    },
    {
      "cell_type": "code",
      "source": [
        "# Helper function\n",
        "#Function to decode\n",
        "def decode_review(encoded_review):\n",
        "  return ' '.join([reverse_word_index.get(i-3,'?') for i in encoded_review])\n",
        "\n",
        "#Function to preprocess user input\n",
        "def preprocess_text(text):\n",
        "  words = text.lower().split()\n",
        "  encoded_review = [word_index.get(word, 2) + 3 for word in words]\n",
        "  padded_review = sequence.pad_sequences([encoded_review], maxlen=500)\n",
        "  return padded_review"
      ],
      "metadata": {
        "id": "qpKvSGm5STc0"
      },
      "execution_count": 25,
      "outputs": []
    },
    {
      "cell_type": "code",
      "source": [
        "# Prediction function\n",
        "def predict_sentiment(review):\n",
        "  preprocessed_input = preprocess_text(review)\n",
        "  prediction = model.predict(preprocessed_input)\n",
        "  sentiment = 'Positive' if prediction[0][0] > 0.5 else 'Negative'\n",
        "  return sentiment, prediction[0][0]"
      ],
      "metadata": {
        "id": "_ur04TrtSTf7"
      },
      "execution_count": 26,
      "outputs": []
    },
    {
      "cell_type": "code",
      "source": [
        "# Step 4: User input & prediction\n",
        "# Example review for prediction\n",
        "example_review = \"This movie was fantastic! The acting was great and the plot was thrilling.\"\n",
        "sentiment, score = predict_sentiment(example_review)\n",
        "print(f'Review: {example_review}')\n",
        "print(f'Sentiment: {sentiment}')\n",
        "print(f'Prediction Score: {score}')\n"
      ],
      "metadata": {
        "colab": {
          "base_uri": "https://localhost:8080/"
        },
        "id": "iIWhsSg_STjN",
        "outputId": "2684aac2-dc4d-4274-ec03-f53f7fbaae37"
      },
      "execution_count": 27,
      "outputs": [
        {
          "output_type": "stream",
          "name": "stdout",
          "text": [
            "\u001b[1m1/1\u001b[0m \u001b[32m━━━━━━━━━━━━━━━━━━━━\u001b[0m\u001b[37m\u001b[0m \u001b[1m0s\u001b[0m 175ms/step\n",
            "Review: This movie was fantastic! The acting was great and the plot was thrilling.\n",
            "Sentiment: Positive\n",
            "Prediction Score: 0.8466588258743286\n"
          ]
        }
      ]
    },
    {
      "cell_type": "code",
      "source": [],
      "metadata": {
        "id": "hH5mtIg7STmb"
      },
      "execution_count": null,
      "outputs": []
    },
    {
      "cell_type": "code",
      "source": [],
      "metadata": {
        "id": "c9o_kuyYSTps"
      },
      "execution_count": null,
      "outputs": []
    },
    {
      "cell_type": "code",
      "source": [],
      "metadata": {
        "id": "Am01cRleSTs2"
      },
      "execution_count": null,
      "outputs": []
    },
    {
      "cell_type": "code",
      "source": [],
      "metadata": {
        "id": "CznhHBQ3STvD"
      },
      "execution_count": null,
      "outputs": []
    }
  ]
}